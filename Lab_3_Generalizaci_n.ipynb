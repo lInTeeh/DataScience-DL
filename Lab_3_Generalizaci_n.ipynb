{
 "cells": [
  {
   "cell_type": "markdown",
   "metadata": {
    "id": "GQERIYfmtA0R"
   },
   "source": [
    "# Apredizaje y generalización\n",
    "\n",
    "Keras también nos ayuda a entrenar redes que sean capaces de generalizar de manera muy  simple. En este laboratorio usaremos un conjunto de entrenamiento (train) y otro conjunto diferente de prueba o validación (test). La idea es que entrenaremos con uno y evaluaremos el desempeño de nuestra red en el otro.\n",
    "\n",
    "También veremos cómo la regularización ayuda a mejorar la generalización."
   ]
  },
  {
   "cell_type": "code",
   "execution_count": null,
   "metadata": {
    "id": "c0nB0cEExPJV"
   },
   "outputs": [],
   "source": [
    "# Importamos librerías necesarias\n",
    "\n",
    "import keras\n",
    "import numpy as np\n",
    "import tensorflow as tf\n",
    "from matplotlib import pyplot as plt"
   ]
  },
  {
   "cell_type": "code",
   "execution_count": null,
   "metadata": {
    "id": "J7k_SnFrxGbT"
   },
   "outputs": [],
   "source": [
    "# Cargamos datos de entrenamiento y prueba de CIFAR10\n",
    "\n",
    "(imgs_train,labs_train), (imgs_test,labs_test) = keras.datasets.cifar10.load_data()\n",
    "print(imgs_train.shape)\n",
    "print(imgs_test.shape)"
   ]
  },
  {
   "cell_type": "code",
   "execution_count": null,
   "metadata": {
    "id": "ED3JVfklw5pA"
   },
   "outputs": [],
   "source": [
    "nombres = ['avión', 'auto', 'pájaro', 'gato', 'venado', 'perro', 'rana', 'caballo', 'barco', 'camión']"
   ]
  },
  {
   "cell_type": "code",
   "execution_count": null,
   "metadata": {
    "id": "XUcrrRw9vvIG"
   },
   "outputs": [],
   "source": [
    "# Mostramos una grilla de ejemplos (al azar) del conjunto de test\n",
    "\n",
    "h = 6 # alto de la grilla\n",
    "w = 6 # ancho de la grilla\n",
    "fig, axs = plt.subplots(h, w, figsize=(1.6*h,1.6*w))\n",
    "for i in range(h):\n",
    "  for j in range(w):\n",
    "    ex = np.random.randint(len(imgs_test))\n",
    "    axs[i,j].set_title(nombres[labs_test[ex][0]])\n",
    "    axs[i,j].grid(False)\n",
    "    axs[i,j].set_xticklabels([])\n",
    "    axs[i,j].set_yticklabels([])\n",
    "    axs[i,j].imshow(imgs_test[ex])"
   ]
  },
  {
   "cell_type": "code",
   "execution_count": null,
   "metadata": {
    "id": "YVpKmJCtyPHU"
   },
   "outputs": [],
   "source": [
    "# Tranformamos los datos para el entrenamiento,\n",
    "# Necesitamos transformar tanto el train como el test\n",
    "\n",
    "X_train = imgs_train.reshape(50000,32*32*3)\n",
    "X_test = imgs_test.reshape(10000,32*32*3)\n",
    "X_train = X_train / 255\n",
    "X_test = X_test / 255\n",
    "print('X', X_train.shape, X_test.shape)\n",
    "\n",
    "Y_train = keras.utils.to_categorical(labs_train, 10)\n",
    "Y_test = keras.utils.to_categorical(labs_test, 10)\n",
    "print('Y', Y_train.shape, Y_test.shape)"
   ]
  },
  {
   "cell_type": "code",
   "execution_count": null,
   "metadata": {
    "id": "zZoG7s25yq2K"
   },
   "outputs": [],
   "source": [
    "# cantidad de ejemplos (train/test), neuronas de entrada y neuronas de salida\n",
    "\n",
    "M_train = X_train.shape[0]\n",
    "M_test = X_test.shape[0]\n",
    "\n",
    "N = X_train.shape[1]\n",
    "C = Y_train.shape[1]\n",
    "\n",
    "print(N,C,M_train,M_test)"
   ]
  },
  {
   "cell_type": "code",
   "execution_count": null,
   "metadata": {
    "id": "BOaB_dIHyxsG"
   },
   "outputs": [],
   "source": [
    "# Setamos los seed para números random\n",
    "\n",
    "np.random.seed(30)\n",
    "tf.random.set_seed(30)\n",
    "\n",
    "\n",
    "# Creamos nuestra red feed-forward (tiene 4 capas escondidas!)\n",
    "\n",
    "h1 = 512\n",
    "h2 = 256\n",
    "\n",
    "red = keras.Sequential()\n",
    "red.add(keras.layers.Dense(h1, input_dim=N, activation='relu'))\n",
    "red.add(keras.layers.Dense(h2, activation='relu'))\n",
    "red.add(keras.layers.Dense(h2, activation='relu'))\n",
    "red.add(keras.layers.Dense(C, activation='softmax'))\n",
    "\n",
    "red.summary()\n",
    "\n",
    "red.compile(\n",
    "    loss='categorical_crossentropy',\n",
    "    optimizer='sgd',\n",
    "    metrics=['accuracy']\n",
    ")"
   ]
  },
  {
   "cell_type": "code",
   "execution_count": null,
   "metadata": {
    "id": "9JKKzq5Ay-eY"
   },
   "outputs": [],
   "source": [
    "hist = red.fit(X_train, Y_train,\n",
    "        epochs=150,\n",
    "        batch_size=128,\n",
    "        validation_data=(X_test,Y_test)\n",
    "       )"
   ]
  },
  {
   "cell_type": "code",
   "execution_count": null,
   "metadata": {
    "id": "VuHzRUkNzgKm"
   },
   "outputs": [],
   "source": [
    "# Mostramos la pérdida y el acierto por cada época\n",
    "\n",
    "plt.plot(hist.history['loss'])\n",
    "plt.plot(hist.history['val_loss'])\n",
    "plt.title('Pérdida')\n",
    "plt.xlabel('Época')\n",
    "plt.show()\n",
    "\n",
    "plt.plot(hist.history['accuracy'])\n",
    "plt.plot(hist.history['val_accuracy'])\n",
    "plt.title('% Acierto')\n",
    "plt.xlabel('Época')\n",
    "plt.show()"
   ]
  },
  {
   "cell_type": "markdown",
   "metadata": {
    "id": "pE4LqQiS6Qh0"
   },
   "source": [
    "## Ejercicio  1: Regularización por Dropout\n",
    "\n",
    "Para agregar  Dropout en keras simplemente usamos la capa `keras.layers.Dropout(p)` donde `p` es la probabilidad de dropout (de apagar una  neurona). Para agregar una de  estas capas simplemente usamos `add` como cualquier otra. Por ejemplo, podríamos hacer esto:\n",
    "\n",
    "```\n",
    "red_reg = keras.Sequential()\n",
    "red_reg.add(keras.layers.Dense(30, input_dim=100, activation='relu'))\n",
    "red_reg.add(keras.layers.Dropout(0.2))\n",
    "red_reg.add(keras.layers.Dense(20, activation='relu'))\n",
    "...\n",
    "```\n",
    "\n",
    "Note que agregamos una capa de dropout entre la primera y la segunda capa.\n",
    "\n",
    "Crea una nueva red `red_reg` haciendo lo siguiente:\n",
    "- Agrega una capa de dropout entre cada una de  las capas escondidas de la red usando un dropout entre 0.2 y 0.5. \n",
    "- Entrena la red por 150 épocas para que veas cómo cambia el aprendizaje. \n",
    "- Guarda la historia del  entrenamiento en una variable `hist_reg` para luego poder graficarla junto a la historia del entrenamiento anterior. \n",
    "- Imprime el historial de la pérdida y el acierto para este nuevo entrenamiento.\n",
    "- Imprime el acierto del entrenamiento con y sin regularización en un mismo  gráfico.\n",
    "\n",
    "¿Obtienes mejores resultados en cuanto al acierto?"
   ]
  },
  {
   "cell_type": "code",
   "execution_count": null,
   "metadata": {
    "id": "Mj0pPXMP9qOM"
   },
   "outputs": [],
   "source": []
  },
  {
   "cell_type": "markdown",
   "metadata": {
    "id": "G5kR3PSx1JSX"
   },
   "source": [
    "### a)  Crea y entrena la  red"
   ]
  },
  {
   "cell_type": "code",
   "execution_count": null,
   "metadata": {
    "id": "f2pSH1dlvgGH"
   },
   "outputs": [],
   "source": [
    "# Setamos los seed para números random\n",
    "\n",
    "np.random.seed(30)\n",
    "tf.random.set_seed(30)\n",
    "\n",
    "# Creamos nuestra red feed-forward\n",
    "\n",
    "red_reg = keras.Sequential()\n",
    "\n",
    "# Acá empieza tu código para crear red compilarla y entrenarla\n",
    "\n",
    "\n",
    "\n",
    "# Acá termina tu código"
   ]
  },
  {
   "cell_type": "markdown",
   "metadata": {
    "id": "Xo9cKElm1Rjr"
   },
   "source": [
    "### b) Imprime el historial de entrenamiento"
   ]
  },
  {
   "cell_type": "code",
   "execution_count": null,
   "metadata": {
    "id": "bVji4P_xz60i"
   },
   "outputs": [],
   "source": [
    "# Acá empieza tu código para mostrar el historial del nuevo entrenamiento\n",
    "\n",
    "\n",
    "# Acá termina tu código"
   ]
  },
  {
   "cell_type": "markdown",
   "metadata": {
    "id": "wzHBQdsH1boo"
   },
   "source": [
    "### c) Compara el historial con y sin regularización"
   ]
  },
  {
   "cell_type": "code",
   "execution_count": null,
   "metadata": {
    "id": "CxixQFFm9kUq"
   },
   "outputs": [],
   "source": [
    "# Acá empieza tu código para la comparación del acierto\n",
    "# con y sin regularización\n",
    "\n",
    "\n",
    "# Acá termina tu código."
   ]
  },
  {
   "cell_type": "markdown",
   "metadata": {
    "id": "KZBFmTcr1iuw"
   },
   "source": [
    "### d) Muestra una grilla con ejemplos y las predicciones de la red"
   ]
  },
  {
   "cell_type": "code",
   "execution_count": null,
   "metadata": {
    "id": "DsgPBgF41EVZ"
   },
   "outputs": [],
   "source": [
    "# Acá empieza tu código para mostrar una grilla con ejemplos\n",
    "# y la predicción de la red.\n",
    "\n",
    "\n",
    "    \n",
    "# Acá termina tu código."
   ]
  },
  {
   "cell_type": "markdown",
   "metadata": {
    "id": "pcLaE4Ze1rXy"
   },
   "source": [
    "## Ejercicio 2 (Opcional): Mejora el acierto en el test set\n",
    "\n",
    "Usa lo que  has aprendido de regularización para intentar mejorar el acierto en el test set. Puede intentar con un dropout más agresivo, cambiando el tamaño del batch (más pequeño puede mejorar pero demora la ejecución!), aumentando la capacidad de tu red, etc. \n",
    "\n",
    "Otro cambio  que puedes hacer es cambiar la tasa de aprendizaje.  Para eso puedes usar las funcionalidades en `keras.optimizers`.  Por ejemplo, para usar SGD con una tasa de aprendizaje de `0.001` puedes usar un código como este:\n",
    "\n",
    "``` \n",
    "# primero creas la red\n",
    "red = keras.Sequential()\n",
    "...\n",
    "\n",
    "# antes de compilar creas el optimizador\n",
    "sgd_opt = keras.optimizers.SGD(lr=0.001)\n",
    "\n",
    "# al compilar usas el optimizador\n",
    "red.compile(\n",
    "    loss='categorical_crossentropy',\n",
    "    optimizer=sgd_opt,\n",
    "    metrics=['accuracy']\n",
    ")\n",
    "\n",
    "# ahora puedes entrenar como siempre\n",
    "red.fit(...)\n",
    "...\n",
    "\n",
    "```\n",
    "\n",
    "Incluso puedes hacer búsqueda de hiperparámetros para encontrar la mejor red respecto del acierto en el test set. Para esto puedes programar un loop en donde vas probando la red para distintos hiperparámetros. Si lo haces ordenado y estás dispuesto a esperar, puedes encontrar redes que mejoren sustancialmente las métricas."
   ]
  },
  {
   "cell_type": "code",
   "execution_count": null,
   "metadata": {
    "id": "5vTnlNBBMK6h"
   },
   "outputs": [],
   "source": []
  }
 ],
 "metadata": {
  "accelerator": "GPU",
  "colab": {
   "name": "Lab_3: Generalización",
   "provenance": []
  },
  "kernelspec": {
   "display_name": "Python 3",
   "language": "python",
   "name": "python3"
  },
  "language_info": {
   "codemirror_mode": {
    "name": "ipython",
    "version": 3
   },
   "file_extension": ".py",
   "mimetype": "text/x-python",
   "name": "python",
   "nbconvert_exporter": "python",
   "pygments_lexer": "ipython3",
   "version": "3.8.5"
  }
 },
 "nbformat": 4,
 "nbformat_minor": 1
}
