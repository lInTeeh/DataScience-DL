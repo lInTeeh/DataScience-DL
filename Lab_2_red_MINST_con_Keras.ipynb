{
  "cells": [
    {
      "cell_type": "markdown",
      "metadata": {
        "id": "Zu0VgDj7lW_D"
      },
      "source": [
        "# Redes Feed Forward en Keras"
      ]
    },
    {
      "cell_type": "markdown",
      "metadata": {
        "id": "ITI4nuZZ4rLH"
      },
      "source": [
        "# Red para MNIST\n",
        "\n",
        "Ahora construiremos una red para un problema real de detección de números escritos a mano. No entrenaremos la red si no que cargaremos pesos directamente y la usaremos para hacer predicciónes. \n",
        "\n",
        "Vamos a partir cargando datos desde `keras.datasets.mnist`."
      ]
    },
    {
      "cell_type": "code",
      "source": [
        "import tensorflow as tf\n",
        "from tensorflow import keras"
      ],
      "metadata": {
        "id": "Ei7QilBJDV9b"
      },
      "execution_count": null,
      "outputs": []
    },
    {
      "cell_type": "code",
      "execution_count": null,
      "metadata": {
        "id": "VCBig7YD5Fp-",
        "colab": {
          "base_uri": "https://localhost:8080/"
        },
        "outputId": "acef48e9-1f00-4b45-aea9-1f5fa7f37ab2"
      },
      "outputs": [
        {
          "output_type": "stream",
          "name": "stdout",
          "text": [
            "Downloading data from https://storage.googleapis.com/tensorflow/tf-keras-datasets/mnist.npz\n",
            "11493376/11490434 [==============================] - 0s 0us/step\n",
            "11501568/11490434 [==============================] - 0s 0us/step\n",
            "(10000, 28, 28)\n",
            "(10000,)\n"
          ]
        }
      ],
      "source": [
        "# Carga datos de MNIST (solo cargaremos un conjunto de pruebas).\n",
        "# Nota el tamaño de los datos\n",
        "\n",
        "_, (imgs, labs) = keras.datasets.mnist.load_data()\n",
        "print(imgs.shape)\n",
        "print(labs.shape)"
      ]
    },
    {
      "cell_type": "code",
      "execution_count": null,
      "metadata": {
        "id": "YJG2M0EFqmDM",
        "colab": {
          "base_uri": "https://localhost:8080/",
          "height": 301
        },
        "outputId": "32b34170-e479-43c1-84c5-903fd5d08895"
      },
      "outputs": [
        {
          "output_type": "stream",
          "name": "stdout",
          "text": [
            "etiqueta: 7\n"
          ]
        },
        {
          "output_type": "execute_result",
          "data": {
            "text/plain": [
              "<matplotlib.image.AxesImage at 0x7f5b625565d0>"
            ]
          },
          "metadata": {},
          "execution_count": 4
        },
        {
          "output_type": "display_data",
          "data": {
            "text/plain": [
              "<Figure size 432x288 with 1 Axes>"
            ],
            "image/png": "[encoded data removed]"
          },
          "metadata": {
            "needs_background": "light"
          }
        }
      ],
      "source": [
        "# Podemos visualizar una imagen cualquiera \n",
        "# (si ejecutas esta celda cambiando 'd' puedes ver una distinta)\n",
        "\n",
        "from matplotlib import pyplot as plt\n",
        "d = 80\n",
        "print('etiqueta:',labs[d])\n",
        "plt.imshow(imgs[d])"
      ]
    },
    {
      "cell_type": "markdown",
      "metadata": {
        "id": "acd4D9ug62wE"
      },
      "source": [
        "Lo primero que debes notar es que los inputs tienen forma de (10000, 28, 28) lo que será  un problema para cualquier red que hagamos. Por lo que cambiaremos su forma y lo dejaremos todo en una matriz de 10000 x (28*28), esto lo hacemos con el comando `reshape`."
      ]
    },
    {
      "cell_type": "code",
      "execution_count": null,
      "metadata": {
        "id": "Zwgirqpf6wSS",
        "colab": {
          "base_uri": "https://localhost:8080/"
        },
        "outputId": "aead122f-2248-4455-94a7-2908cadeb2e3"
      },
      "outputs": [
        {
          "output_type": "stream",
          "name": "stdout",
          "text": [
            "(10000, 784)\n"
          ]
        }
      ],
      "source": [
        "X = imgs.reshape(10000,28*28)\n",
        "print(X.shape)"
      ]
    },
    {
      "cell_type": "markdown",
      "metadata": {
        "id": "Rrn6QrOU7mSu"
      },
      "source": [
        "Lo siguiente que haremos será \"normalizar\" los valores de entrada, de manera tal que todos estén entre 0 y 1. Más adelante veremos que este paso resulta demasiado importante en el buen funcionamiento de las redes. Las imágenes son valores de intensidad de un pixel de entre 0 y 255. Para normalizarlos simplemente dividimos todos los datos por 255."
      ]
    },
    {
      "cell_type": "code",
      "execution_count": null,
      "metadata": {
        "id": "ahNA9N-w7xU9"
      },
      "outputs": [],
      "source": [
        "# Dividimos por 255\n",
        "X = X / 255"
      ]
    },
    {
      "cell_type": "markdown",
      "metadata": {
        "id": "rJ1-1vQO8Olq"
      },
      "source": [
        "##  Descripción de la  red para MNIST\n",
        "\n",
        "\n",
        "En esta parte, usaremos pesos y bias preconstruidos para crear una red que predice (con alta certeza) la etiqueta de imágenes de números escritos a mano en imágenes de 28x28 pixeles. La red tiene esta arquitectura:\n",
        "\n",
        "784 --> 32 (relu) --> 16 (relu) --> 10 (softmax)\n",
        "\n",
        "Tu trabajo será crear la red con esa arquitectura usando `keras.Sequential` y `keras.layers.Dense`, usar las funciones de activación correspondientes, cargar los pesos y bias en cada una  de las capas, y luego probar la red haciendo predicciones para ciertos ejemplos.\n",
        "\n",
        "** Este ejercicio es considerablemente más largo que los anteriores **"
      ]
    },
    {
      "cell_type": "markdown",
      "metadata": {
        "id": "jI_uKzRd9xhV"
      },
      "source": [
        "## Paso 0: Construyendo las matrices de pesos\n",
        "\n",
        "Carga los pesos y bias  de la red. Los archivos son tales que `W1.txt` y `b1.txt`  corresponden al a primera capa, `W2.txt` y `b2.txt` a la segunda,  y `U` y `c` a la capa final."
      ]
    },
    {
      "cell_type": "code",
      "execution_count": null,
      "metadata": {
        "id": "_DPyvChpa2Yn",
        "colab": {
          "base_uri": "https://localhost:8080/"
        },
        "outputId": "5b7a26d2-f208-49cf-99dd-db0532cf3623"
      },
      "outputs": [
        {
          "output_type": "stream",
          "name": "stdout",
          "text": [
            "mnist_weights/\n",
            "mnist_weights/c.txt\n",
            "mnist_weights/W1.txt\n",
            "mnist_weights/b1.txt\n",
            "mnist_weights/b2.txt\n",
            "mnist_weights/U.txt\n",
            "mnist_weights/W2.txt\n"
          ]
        }
      ],
      "source": [
        "# Con el siguiente código puedes descargar los pesos\n",
        "# y descomprímelos en la carpeta mnist_weights.\n",
        "\n",
        "!wget -q dcc.uchile.cl/~jperez/cursos/cc66h/mnist_weights.tar.gz -o /dev/null\n",
        "!tar -zxvf mnist_weights.tar.gz"
      ]
    },
    {
      "cell_type": "code",
      "execution_count": null,
      "metadata": {
        "id": "-kJHIyTVBIw8"
      },
      "outputs": [],
      "source": [
        "import numpy as np"
      ]
    },
    {
      "cell_type": "code",
      "execution_count": null,
      "metadata": {
        "id": "z34D60UvPNps"
      },
      "outputs": [],
      "source": [
        "# Para cargar datos desde archivos en arreglos numpy\n",
        "# puedes usar np.loadtxt\n",
        "\n",
        "W1 = np.loadtxt('mnist_weights/W1.txt')\n",
        "b1 = np.loadtxt('mnist_weights/b1.txt')"
      ]
    },
    {
      "cell_type": "code",
      "execution_count": null,
      "metadata": {
        "id": "z58yk9kyPiyq",
        "colab": {
          "base_uri": "https://localhost:8080/"
        },
        "outputId": "d0f96a54-2bcb-4a97-d9ce-7e032688e18e"
      },
      "outputs": [
        {
          "output_type": "stream",
          "name": "stdout",
          "text": [
            "-0.14337286353111267\n",
            "0.06190946325659752\n",
            "0.10503328591585159\n",
            "0.12370651960372925\n"
          ]
        }
      ],
      "source": [
        "# Carga tu los datos en las variables W2, b2, U, y c\n",
        "\n",
        "# Acá empieza tu código (~4 lineas)\n",
        "W2 = np.loadtxt('mnist_weights/W2.txt')\n",
        "b2 = np.loadtxt('mnist_weights/b2.txt')\n",
        "U = np.loadtxt('mnist_weights/U.txt')\n",
        "c = np.loadtxt('mnist_weights/c.txt')\n",
        "# Acá termina tu código\n",
        "\n",
        "# Si todo funciona bien, lo siguiente debiera imprimir los valores\n",
        "# -0.14337286353111267\n",
        "# 0.06190946325659752\n",
        "# 0.10503328591585159\n",
        "# 0.12370651960372925\n",
        "\n",
        "print(W2[5][7])\n",
        "print(b2[10])\n",
        "print(U[6][8])\n",
        "print(c[5])"
      ]
    },
    {
      "cell_type": "markdown",
      "metadata": {
        "id": "p151G5LU9kBZ"
      },
      "source": [
        "## Paso 1: Creando la  red\n",
        "\n",
        "Crea la red. Llámale simplemente `red`.\n"
      ]
    },
    {
      "cell_type": "code",
      "execution_count": null,
      "metadata": {
        "id": "XwE2o5aW9jVR"
      },
      "outputs": [],
      "source": [
        "# Acá empieza tu código (~5 líneas)\n",
        "#784 --> 32 (relu) --> 16 (relu) --> 10 (softmax)\n",
        "\n",
        "\n",
        "# Acá termina tu código"
      ]
    },
    {
      "cell_type": "markdown",
      "metadata": {
        "id": "cqtnSS0yQhpp"
      },
      "source": [
        "## Paso 2: Carga los pesos\n",
        "\n",
        "Carga los pesos en cada una de las capas  (según lo que aprendiste antes)"
      ]
    },
    {
      "cell_type": "code",
      "execution_count": null,
      "metadata": {
        "id": "8HKdts_lQqpf"
      },
      "outputs": [],
      "source": [
        "# Acá empieza tu código (~3 líneas)\n",
        "\n",
        "\n",
        "# Acá termina tu código"
      ]
    },
    {
      "cell_type": "code",
      "execution_count": null,
      "metadata": {
        "id": "XqS9-vraRc0g",
        "colab": {
          "base_uri": "https://localhost:8080/"
        },
        "outputId": "3e560641-a033-4b23-b9d6-e1101d8f68c2"
      },
      "outputs": [
        {
          "output_type": "stream",
          "name": "stdout",
          "text": [
            "0.9669603\n"
          ]
        }
      ],
      "source": [
        "# Si cargaste todo correctamente, lo siguiente debiera dar el valor 0.9669603\n",
        "\n"
      ]
    },
    {
      "cell_type": "markdown",
      "metadata": {
        "id": "BeFT2hyYUS5h"
      },
      "source": [
        "## Paso 3: Probabiilidades de predicción\n",
        "\n",
        "Primero imprime la imágen en el índice 195, y luego,  con tu red cargada calcula las probabilidades para cada clase para la imagen en el índice 195. ¿Cuáles son las dos clases más probables para este ejemplo?"
      ]
    },
    {
      "cell_type": "code",
      "execution_count": null,
      "metadata": {
        "id": "6tS4YlSVbchu",
        "colab": {
          "base_uri": "https://localhost:8080/",
          "height": 283
        },
        "outputId": "5b89bc53-33a7-407c-87ce-26b85c16a32f"
      },
      "outputs": [
        {
          "output_type": "execute_result",
          "data": {
            "text/plain": [
              "<matplotlib.image.AxesImage at 0x7f5ae47a3cd0>"
            ]
          },
          "metadata": {},
          "execution_count": 19
        },
        {
          "output_type": "display_data",
          "data": {
            "text/plain": [
              "<Figure size 432x288 with 1 Axes>"
            ],
            "image/png": "[encoded data removed]"
          },
          "metadata": {
            "needs_background": "light"
          }
        }
      ],
      "source": [
        "# Primero imprimimos\n",
        "plt.imshow(imgs[195])"
      ]
    },
    {
      "cell_type": "code",
      "execution_count": null,
      "metadata": {
        "id": "I17mjitvbAAF",
        "colab": {
          "base_uri": "https://localhost:8080/"
        },
        "outputId": "cac25483-1919-47dc-eb57-4267b850a410"
      },
      "outputs": [
        {
          "output_type": "stream",
          "name": "stdout",
          "text": [
            "[[9.89117543e-05 1.14829715e-10 8.65740294e-04 4.21108073e-03\n",
            "  6.43082285e-06 7.96730164e-05 4.71228525e-12 9.94548976e-01\n",
            "  5.46452554e-07 1.88707738e-04]\n",
            " [2.03828709e-09 8.13674160e-06 9.99906659e-01 6.67966815e-05\n",
            "  8.16799319e-12 1.10619185e-08 6.30796304e-10 3.04674827e-11\n",
            "  1.84194341e-05 2.78404947e-12]\n",
            " [1.41646751e-06 9.93074417e-01 1.48462865e-03 6.84207480e-04\n",
            "  7.64919459e-05 6.91703899e-05 1.00565951e-04 2.98212958e-03\n",
            "  1.51004875e-03 1.70129442e-05]\n",
            " [9.99661565e-01 2.02052866e-14 4.55141635e-05 2.52572896e-08\n",
            "  2.74365389e-04 1.16756453e-07 3.05762796e-06 3.45617735e-07\n",
            "  4.81417658e-07 1.44947007e-05]\n",
            " [1.17233612e-04 4.92674790e-09 1.40253818e-04 5.67336565e-06\n",
            "  9.94295299e-01 3.03966021e-06 1.71378815e-05 7.95779779e-05\n",
            "  2.63438142e-05 5.31543652e-03]]\n",
            "[7 2 1 0 4]\n"
          ]
        }
      ],
      "source": [
        "# Ahora calcula las probabilidades para cada clase. \n",
        "# Acá empieza tu código (~4 líneas)\n",
        "# Calculemos primero la predicción para los inputs en el rango 0:5\n",
        "\n",
        "\n",
        "# Acá termina tu código\n",
        "# Cuáles son las más altas?"
      ]
    },
    {
      "cell_type": "markdown",
      "metadata": {
        "id": "ScmWvBEjckPf"
      },
      "source": [
        "## Paso 4: Prediciendo Clases\n",
        "\n",
        "Usa lo que has aprendido antes (en particular la función `np.argmax`) para hacer un trozo de código que, dada una variable que representa un índice entre 0 y 9999, muestre la imagen asociada a ese índice, la etiqueta real de la imagen, la etiqueta predicha por la red. La celda debería generar un output de la siguiente forma\n",
        "\n",
        "```\n",
        "etiqueta real: <valor1>\n",
        "predicción: <valor2>\n",
        "<imagen>\n",
        "```\n",
        "\n",
        "Opcional: si sabes un poco más de python, trata de hacer una función que reciba el índice como input y entregue lo pedido. "
      ]
    },
    {
      "cell_type": "code",
      "execution_count": null,
      "metadata": {
        "id": "ZAK8Kp7PcjsM"
      },
      "outputs": [],
      "source": [
        "# Acá empieza tu código (~5 líneas)\n",
        "\n",
        "\n",
        "\n",
        "# Acá termina tu código"
      ]
    },
    {
      "cell_type": "markdown",
      "metadata": {
        "id": "HmqbZXDth3ry"
      },
      "source": [
        "## Paso 5: Opcional\n",
        "\n",
        "Haz un trozo de código que calcule cuántas predicciones de la red fueron correctas y cuántas fueron incorrectas, y use esos números para computar un porcentaje de acierto de la red. \n",
        "\n",
        "Opcional: si sabes algo de numpy, intenta hacer todo el proceso sin hacer iteraciones (de hecho, podrías tratar de hacerlo con y sin iteraciones y luego comprobar cuál es la ganancia en tiempo de hacerlo sin usar una iteración)."
      ]
    },
    {
      "cell_type": "code",
      "execution_count": null,
      "metadata": {
        "cellView": "both",
        "id": "RuVK_Je3h26V"
      },
      "outputs": [],
      "source": [
        "# Acá empieza tu código (~5 líneas)\n",
        "\n",
        "\n",
        "\n",
        "# Acá termina tu código"
      ]
    }
  ],
  "metadata": {
    "accelerator": "GPU",
    "colab": {
      "collapsed_sections": [
        "rJ1-1vQO8Olq",
        "jI_uKzRd9xhV",
        "ScmWvBEjckPf",
        "HmqbZXDth3ry"
      ],
      "name": "Lab_2_red_MINST_con_Keras.ipynb",
      "provenance": []
    },
    "kernelspec": {
      "display_name": "Python 3",
      "language": "python",
      "name": "python3"
    },
    "language_info": {
      "codemirror_mode": {
        "name": "ipython",
        "version": 3
      },
      "file_extension": ".py",
      "mimetype": "text/x-python",
      "name": "python",
      "nbconvert_exporter": "python",
      "pygments_lexer": "ipython3",
      "version": "3.8.5"
    }
  },
  "nbformat": 4,
  "nbformat_minor": 0
}